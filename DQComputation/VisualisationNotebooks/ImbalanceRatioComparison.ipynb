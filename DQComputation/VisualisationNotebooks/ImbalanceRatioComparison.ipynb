{
 "cells": [
  {
   "cell_type": "code",
   "execution_count": 1,
   "id": "ec0fb23a",
   "metadata": {},
   "outputs": [],
   "source": [
    "%matplotlib notebook\n",
    "import numpy as np\n",
    "import matplotlib\n",
    "import matplotlib.pyplot as plt\n",
    "from matplotlib.pyplot import cm\n",
    "import matplotlib.patches as patches\n",
    "from matplotlib.collections import PatchCollection\n",
    "from sklearn.linear_model import LinearRegression\n",
    "from sklearn.preprocessing import PolynomialFeatures\n",
    "import pandas as pd\n",
    "import math as m\n",
    "import itertools\n",
    "import os"
   ]
  },
  {
   "cell_type": "code",
   "execution_count": 47,
   "id": "3c22cf15",
   "metadata": {},
   "outputs": [],
   "source": [
    "def compute_IR(dataframe):\n",
    "    classes = dataframe['class'].unique()\n",
    "    maj_class = max(dataframe['class'].value_counts())\n",
    "    min_class = min(dataframe['class'].value_counts())\n",
    "    return round(min_class/maj_class, 3)"
   ]
  },
  {
   "cell_type": "code",
   "execution_count": 48,
   "id": "ff09dac0",
   "metadata": {},
   "outputs": [],
   "source": [
    "def all_IRs(dataset, error):\n",
    "    path = \"../../DataDeterioration/DeterioratedDatasets/\" + dataset\n",
    "    df = pd.read_csv(path + \"/\" + dataset + \".csv\")\n",
    "    path += \"/\" + error + \"/\"\n",
    "    irs = [1 - compute_IR(df)]\n",
    "    del df\n",
    "    for p in range(5, 100, 5):\n",
    "        filepath = path + dataset + \"_\" + error + \"_\" + str(p) + \".csv\"\n",
    "        if os.path.isfile(filepath):\n",
    "            df = pd.read_csv(filepath)\n",
    "            irs.append(1 - compute_IR(df))\n",
    "            del df\n",
    "        else:\n",
    "            irs.append(np.nan)\n",
    "    return np.array(irs)"
   ]
  },
  {
   "cell_type": "code",
   "execution_count": null,
   "id": "853b39b1",
   "metadata": {},
   "outputs": [],
   "source": []
  },
  {
   "cell_type": "code",
   "execution_count": 49,
   "id": "2b0d0eea",
   "metadata": {},
   "outputs": [],
   "source": [
    "_, iris_my, iris_mz, iris_time = np.load(\"../Output/clean output/scores/iris_missing_(x,y,y1,y2,z,z1,z2,time).npy\", allow_pickle=True)\n",
    "iris_m_irs = all_IRs('iris', 'missing')\n",
    "\n",
    "_, cancer_my, cancer_mz, cancer_time = np.load(\"../Output/clean output/scores/breast_cancer_missing_(x,y,y1,y2,z,z1,z2,time).npy\", allow_pickle=True)\n",
    "cancer_m_irs = all_IRs('cancer', 'missing')\n",
    "\n",
    "_, adult_my, adult_mz, adult_time = np.load(\"../Output/clean output/scores/adult_missing_(x,y,y1,y2,z,z1,z2,time).npy\", allow_pickle=True)\n",
    "adult_m_irs = all_IRs('adult', 'missing')\n",
    "\n",
    "_, abalone_my, abalone_mz, abalone_time = np.load(\"../Output/clean output/scores/abalone_missing_(x,y,y1,y2,z,z1,z2,time).npy\", allow_pickle=True)\n",
    "abalone_m_irs = all_IRs('abalone', 'missing')\n",
    "\n",
    "_, statlog_my, statlog_mz, statlog_time = np.load(\"../Output/clean output/scores/statlog_missing_(x,y,y1,y2,z,z1,z2,time).npy\", allow_pickle=True)\n",
    "statlog_m_irs = all_IRs('statlog', 'missing')\n",
    "\n",
    "_, spambase_my, spambase_mz, spambase_time = np.load(\"../Output/clean output/scores/spambase_missing_(x,y,y1,y2,z,z1,z2,time).npy\", allow_pickle=True)\n",
    "spambase_m_irs = all_IRs('spambase', 'missing')\n",
    "\n",
    "_, heart_my, heart_mz, heart_time = np.load(\"../Output/clean output/scores/heart_missing_(x,y,y1,y2,z,z1,z2,time).npy\", allow_pickle=True)\n",
    "heart_m_irs = all_IRs('heart', 'missing')\n",
    "\n",
    "_, bean_my, bean_mz, bean_time = np.load(\"../Output/clean output/scores/bean_missing_(x,y,y1,y2,z,z1,z2,time).npy\", allow_pickle=True)\n",
    "bean_m_irs = all_IRs('bean', 'missing')"
   ]
  },
  {
   "cell_type": "code",
   "execution_count": 50,
   "id": "4de89aae",
   "metadata": {},
   "outputs": [],
   "source": [
    "iris_m_qf_1c = np.load(\"../Output/clean output/qf_1c/iris_missing_(qf,qf1,qf2).npy\")\n",
    "cancer_m_qf_1c = np.load(\"../Output/clean output/qf_1c/cancer_missing_(qf,qf1,qf2).npy\")\n",
    "adult_m_qf_1c = np.load(\"../Output/clean output/qf_1c/adult_missing_(qf,qf1,qf2).npy\")\n",
    "abalone_m_qf_1c = np.load(\"../Output/clean output/qf_1c/abalone_missing_(qf,qf1,qf2).npy\")\n",
    "statlog_m_qf_1c = np.load(\"../Output/clean output/qf_1c/statlog_missing_(qf,qf1,qf2).npy\")\n",
    "spambase_m_qf_1c = np.load(\"../Output/clean output/qf_1c/spambase_missing_(qf,qf1,qf2).npy\")\n",
    "heart_m_qf_1c = np.load(\"../Output/clean output/qf_1c/heart_missing_(qf,qf1,qf2).npy\")\n",
    "bean_m_qf_1c = np.load(\"../Output/clean output/qf_1c/bean_missing_(qf,qf1,qf2).npy\")"
   ]
  },
  {
   "cell_type": "code",
   "execution_count": 51,
   "id": "06225d0d",
   "metadata": {},
   "outputs": [
    {
     "ename": "ValueError",
     "evalue": "setting an array element with a sequence. The requested array has an inhomogeneous shape after 1 dimensions. The detected shape was (3,) + inhomogeneous part.",
     "output_type": "error",
     "traceback": [
      "\u001b[0;31m---------------------------------------------------------------------------\u001b[0m",
      "\u001b[0;31mValueError\u001b[0m                                Traceback (most recent call last)",
      "\u001b[0;32m<ipython-input-51-7c67b7e4a807>\u001b[0m in \u001b[0;36m<module>\u001b[0;34m\u001b[0m\n\u001b[0;32m----> 1\u001b[0;31m \u001b[0mnp\u001b[0m\u001b[0;34m.\u001b[0m\u001b[0msave\u001b[0m\u001b[0;34m(\u001b[0m\u001b[0;34m\"save/scores/iris_missing_(qa,qf,time).npy\"\u001b[0m\u001b[0;34m,\u001b[0m \u001b[0;34m(\u001b[0m\u001b[0miris_my\u001b[0m\u001b[0;34m,\u001b[0m \u001b[0miris_m_qf_1c\u001b[0m\u001b[0;34m,\u001b[0m \u001b[0miris_time\u001b[0m\u001b[0;34m)\u001b[0m\u001b[0;34m)\u001b[0m\u001b[0;34m\u001b[0m\u001b[0;34m\u001b[0m\u001b[0m\n\u001b[0m\u001b[1;32m      2\u001b[0m \u001b[0mnp\u001b[0m\u001b[0;34m.\u001b[0m\u001b[0msave\u001b[0m\u001b[0;34m(\u001b[0m\u001b[0;34m\"save/scores/cancer_missing_(qa,qf,time).npy\"\u001b[0m\u001b[0;34m,\u001b[0m \u001b[0;34m(\u001b[0m\u001b[0mcancer_my\u001b[0m\u001b[0;34m,\u001b[0m \u001b[0mcancer_m_qf_1c\u001b[0m\u001b[0;34m,\u001b[0m \u001b[0mcancer_time\u001b[0m\u001b[0;34m)\u001b[0m\u001b[0;34m)\u001b[0m\u001b[0;34m\u001b[0m\u001b[0;34m\u001b[0m\u001b[0m\n\u001b[1;32m      3\u001b[0m \u001b[0mnp\u001b[0m\u001b[0;34m.\u001b[0m\u001b[0msave\u001b[0m\u001b[0;34m(\u001b[0m\u001b[0;34m\"save/scores/adult_missing_(qa,qf,time).npy\"\u001b[0m\u001b[0;34m,\u001b[0m \u001b[0;34m(\u001b[0m\u001b[0madult_my\u001b[0m\u001b[0;34m,\u001b[0m \u001b[0madult_m_qf_1c\u001b[0m\u001b[0;34m,\u001b[0m \u001b[0madult_time\u001b[0m\u001b[0;34m)\u001b[0m\u001b[0;34m)\u001b[0m\u001b[0;34m\u001b[0m\u001b[0;34m\u001b[0m\u001b[0m\n\u001b[1;32m      4\u001b[0m \u001b[0;34m\u001b[0m\u001b[0m\n\u001b[1;32m      5\u001b[0m \u001b[0mnp\u001b[0m\u001b[0;34m.\u001b[0m\u001b[0msave\u001b[0m\u001b[0;34m(\u001b[0m\u001b[0;34m\"save/scores/abalone_missing_(qa,qf,time).npy\"\u001b[0m\u001b[0;34m,\u001b[0m \u001b[0;34m(\u001b[0m\u001b[0mabalone_my\u001b[0m\u001b[0;34m,\u001b[0m \u001b[0mabalone_m_qf_1c\u001b[0m\u001b[0;34m,\u001b[0m \u001b[0mabalone_time\u001b[0m\u001b[0;34m)\u001b[0m\u001b[0;34m)\u001b[0m\u001b[0;34m\u001b[0m\u001b[0;34m\u001b[0m\u001b[0m\n",
      "\u001b[0;32m~/opt/anaconda3/lib/python3.8/site-packages/numpy/core/overrides.py\u001b[0m in \u001b[0;36msave\u001b[0;34m(*args, **kwargs)\u001b[0m\n",
      "\u001b[0;32m~/opt/anaconda3/lib/python3.8/site-packages/numpy/lib/npyio.py\u001b[0m in \u001b[0;36msave\u001b[0;34m(file, arr, allow_pickle, fix_imports)\u001b[0m\n\u001b[1;32m    519\u001b[0m         format.write_array(fid, arr, allow_pickle=allow_pickle,\n\u001b[1;32m    520\u001b[0m                            pickle_kwargs=dict(fix_imports=fix_imports))\n\u001b[0;32m--> 521\u001b[0;31m \u001b[0;34m\u001b[0m\u001b[0m\n\u001b[0m\u001b[1;32m    522\u001b[0m \u001b[0;34m\u001b[0m\u001b[0m\n\u001b[1;32m    523\u001b[0m \u001b[0;32mdef\u001b[0m \u001b[0m_savez_dispatcher\u001b[0m\u001b[0;34m(\u001b[0m\u001b[0mfile\u001b[0m\u001b[0;34m,\u001b[0m \u001b[0;34m*\u001b[0m\u001b[0margs\u001b[0m\u001b[0;34m,\u001b[0m \u001b[0;34m**\u001b[0m\u001b[0mkwds\u001b[0m\u001b[0;34m)\u001b[0m\u001b[0;34m:\u001b[0m\u001b[0;34m\u001b[0m\u001b[0;34m\u001b[0m\u001b[0m\n",
      "\u001b[0;31mValueError\u001b[0m: setting an array element with a sequence. The requested array has an inhomogeneous shape after 1 dimensions. The detected shape was (3,) + inhomogeneous part."
     ]
    }
   ],
   "source": [
    "np.save(\"save/scores/iris_missing_(qa,qf,time).npy\", (iris_my, iris_m_qf_1c, iris_time))\n",
    "np.save(\"save/scores/cancer_missing_(qa,qf,time).npy\", (cancer_my, cancer_m_qf_1c, cancer_time))\n",
    "np.save(\"save/scores/adult_missing_(qa,qf,time).npy\", (adult_my, adult_m_qf_1c, adult_time))\n",
    "\n",
    "np.save(\"save/scores/abalone_missing_(qa,qf,time).npy\", (abalone_my, abalone_m_qf_1c, abalone_time))\n",
    "np.save(\"save/scores/heart_missing_(qa,qf,time).npy\", (heart_my, heart_m_qf_1c, heart_time))\n",
    "np.save(\"save/scores/statlog_missing_(qa,qf,time).npy\", (statlog_my, statlog_m_qf_1c, statlog_time))\n",
    "np.save(\"save/scores/spambase_missing_(qa,qf,time).npy\", (spambase_my, spambase_m_qf_1c, spambase_time))\n",
    "np.save(\"save/scores/bean_missing_(qa,qf,time).npy\", (bean_my, bean_m_qf_1c, bean_time))\n"
   ]
  },
  {
   "cell_type": "code",
   "execution_count": null,
   "id": "d4f356f1",
   "metadata": {},
   "outputs": [],
   "source": []
  }
 ],
 "metadata": {
  "kernelspec": {
   "display_name": "Python 3",
   "language": "python",
   "name": "python3"
  },
  "language_info": {
   "codemirror_mode": {
    "name": "ipython",
    "version": 3
   },
   "file_extension": ".py",
   "mimetype": "text/x-python",
   "name": "python",
   "nbconvert_exporter": "python",
   "pygments_lexer": "ipython3",
   "version": "3.8.8"
  }
 },
 "nbformat": 4,
 "nbformat_minor": 5
}
