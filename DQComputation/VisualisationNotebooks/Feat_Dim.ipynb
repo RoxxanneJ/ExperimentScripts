{
 "cells": [
  {
   "cell_type": "code",
   "execution_count": 1,
   "id": "c5e40d60",
   "metadata": {},
   "outputs": [],
   "source": [
    "%matplotlib notebook\n",
    "import numpy as np\n",
    "import matplotlib\n",
    "import matplotlib.pyplot as plt\n",
    "from matplotlib.pyplot import cm\n",
    "import matplotlib.patches as patches\n",
    "from matplotlib.collections import PatchCollection\n",
    "import pandas as pd\n",
    "import math as m\n",
    "import itertools\n",
    "import os"
   ]
  },
  {
   "cell_type": "code",
   "execution_count": 2,
   "id": "afd1f9a9",
   "metadata": {},
   "outputs": [],
   "source": [
    "# Initial quality scores when all features are included\n",
    "\n",
    "iris_base_qa = 0.11\n",
    "iris_base_qf = 0.16\n",
    "cancer_base_qa = 0.2\n",
    "cancer_base_qf = 0.25\n",
    "adult_base_qa = 0.5\n",
    "adult_base_qf = 0.52\n",
    "heart_base_qa = 0.42\n",
    "heart_base_qf = 0.41\n",
    "statlog_base_qa = 0.48\n",
    "statlog_base_qf = 0.71\n",
    "abalone_base_qa = 0.32\n",
    "abalone_base_qf = 0.37\n",
    "spambase_base_qa = 0.29\n",
    "spambase_base_qf = 0.35\n",
    "bean_base_qa = 0.36\n",
    "bean_base_qf = 0.4"
   ]
  },
  {
   "cell_type": "code",
   "execution_count": 3,
   "id": "3acf657e",
   "metadata": {},
   "outputs": [],
   "source": [
    "# Total number of rows for the datasets\n",
    "\n",
    "n_iris = 150\n",
    "n_cancer = 569\n",
    "n_adult = 2000\n",
    "n_heart = 297\n",
    "n_statlog = 959\n",
    "n_spambase = 4601\n",
    "n_abalone = 4177\n",
    "n_bean = 1400"
   ]
  },
  {
   "cell_type": "code",
   "execution_count": 4,
   "id": "39fd242c",
   "metadata": {},
   "outputs": [],
   "source": [
    "# Total number of features for the datasets\n",
    "\n",
    "f_iris = 4\n",
    "f_cancer = 30\n",
    "f_adult = 10\n",
    "\n",
    "f_heart = 13\n",
    "f_statlog = 24\n",
    "f_abalone = 8\n",
    "f_spambase = 57\n",
    "f_bean = 16"
   ]
  },
  {
   "cell_type": "code",
   "execution_count": 4,
   "id": "0700a969",
   "metadata": {},
   "outputs": [],
   "source": [
    "# Number of features selected\n",
    "\n",
    "feat_iris = [3, 2, 1]\n",
    "feat_cancer = [23, 12, 5, 4, 3, 2]\n",
    "feat_adult = [8, 4, 2]\n",
    "\n",
    "feat_heart = [12, 10, 8, 6, 4, 3, 2, 1]\n",
    "feat_statlog = [20, 18, 12, 10, 8, 6, 4, 3, 2, 1]\n",
    "feat_abalone = [6, 4, 3, 2, 1]\n",
    "feat_spambase = [52, 43, 37, 28, 19, 10, 6, 4, 3, 2, 1]\n",
    "feat_bean = [12, 11, 8, 6, 4, 3, 2, 1]\n",
    "\n",
    "feats = [feat_iris, feat_cancer, feat_adult, feat_heart, feat_statlog, feat_abalone, feat_spambase, feat_bean]"
   ]
  },
  {
   "cell_type": "code",
   "execution_count": 5,
   "id": "12ff17a8",
   "metadata": {},
   "outputs": [],
   "source": [
    "def load_data(dataset, feat_list, n, init_f, init_qa, init_qf):\n",
    "    ds = [init_f/init_f]\n",
    "    qas = [init_qa]\n",
    "    qfs = [init_qf]\n",
    "    for feat in feat_list:\n",
    "        _, qa, qf, _ = np.load(\"./features/\"+dataset+\"_\"+str(feat)+\"_features_(x,qa,qf,time).npy\", allow_pickle=True)\n",
    "        qas.append(qa[0])\n",
    "        qfs.append(qf[0])\n",
    "        ds.append(feat/init_f)\n",
    "    return ds, qas, qfs\n",
    "        "
   ]
  },
  {
   "cell_type": "code",
   "execution_count": 6,
   "id": "c9c922e1",
   "metadata": {},
   "outputs": [
    {
     "ename": "NameError",
     "evalue": "name 'n_iris' is not defined",
     "output_type": "error",
     "traceback": [
      "\u001b[0;31m---------------------------------------------------------------------------\u001b[0m",
      "\u001b[0;31mNameError\u001b[0m                                 Traceback (most recent call last)",
      "\u001b[0;32m<ipython-input-6-d956d1b8abab>\u001b[0m in \u001b[0;36m<module>\u001b[0;34m\u001b[0m\n\u001b[0;32m----> 1\u001b[0;31m \u001b[0miris_ds\u001b[0m\u001b[0;34m,\u001b[0m \u001b[0miris_qas\u001b[0m\u001b[0;34m,\u001b[0m \u001b[0miris_qfs\u001b[0m \u001b[0;34m=\u001b[0m \u001b[0mload_data\u001b[0m\u001b[0;34m(\u001b[0m\u001b[0;34m'iris'\u001b[0m\u001b[0;34m,\u001b[0m \u001b[0mfeat_iris\u001b[0m\u001b[0;34m,\u001b[0m \u001b[0mn_iris\u001b[0m\u001b[0;34m,\u001b[0m \u001b[0mf_iris\u001b[0m\u001b[0;34m,\u001b[0m \u001b[0miris_base_qa\u001b[0m\u001b[0;34m,\u001b[0m \u001b[0miris_base_qf\u001b[0m\u001b[0;34m)\u001b[0m\u001b[0;34m\u001b[0m\u001b[0;34m\u001b[0m\u001b[0m\n\u001b[0m\u001b[1;32m      2\u001b[0m \u001b[0mcancer_ds\u001b[0m\u001b[0;34m,\u001b[0m \u001b[0mcancer_qas\u001b[0m\u001b[0;34m,\u001b[0m \u001b[0mcancer_qfs\u001b[0m \u001b[0;34m=\u001b[0m \u001b[0mload_data\u001b[0m\u001b[0;34m(\u001b[0m\u001b[0;34m'cancer'\u001b[0m\u001b[0;34m,\u001b[0m \u001b[0mfeat_cancer\u001b[0m\u001b[0;34m,\u001b[0m \u001b[0mn_cancer\u001b[0m\u001b[0;34m,\u001b[0m \u001b[0mf_cancer\u001b[0m\u001b[0;34m,\u001b[0m \u001b[0mcancer_base_qa\u001b[0m\u001b[0;34m,\u001b[0m \u001b[0mcancer_base_qf\u001b[0m\u001b[0;34m)\u001b[0m\u001b[0;34m\u001b[0m\u001b[0;34m\u001b[0m\u001b[0m\n\u001b[1;32m      3\u001b[0m \u001b[0madult_ds\u001b[0m\u001b[0;34m,\u001b[0m \u001b[0madult_qas\u001b[0m\u001b[0;34m,\u001b[0m \u001b[0madult_qfs\u001b[0m \u001b[0;34m=\u001b[0m \u001b[0mload_data\u001b[0m\u001b[0;34m(\u001b[0m\u001b[0;34m'adult'\u001b[0m\u001b[0;34m,\u001b[0m \u001b[0mfeat_adult\u001b[0m\u001b[0;34m,\u001b[0m \u001b[0mn_adult\u001b[0m\u001b[0;34m,\u001b[0m \u001b[0mf_adult\u001b[0m\u001b[0;34m,\u001b[0m \u001b[0madult_base_qa\u001b[0m\u001b[0;34m,\u001b[0m \u001b[0madult_base_qf\u001b[0m\u001b[0;34m)\u001b[0m\u001b[0;34m\u001b[0m\u001b[0;34m\u001b[0m\u001b[0m\n\u001b[1;32m      4\u001b[0m \u001b[0;34m\u001b[0m\u001b[0m\n\u001b[1;32m      5\u001b[0m \u001b[0mheart_ds\u001b[0m\u001b[0;34m,\u001b[0m \u001b[0mheart_qas\u001b[0m\u001b[0;34m,\u001b[0m \u001b[0mheart_qfs\u001b[0m \u001b[0;34m=\u001b[0m \u001b[0mload_data\u001b[0m\u001b[0;34m(\u001b[0m\u001b[0;34m'heart'\u001b[0m\u001b[0;34m,\u001b[0m \u001b[0mfeat_heart\u001b[0m\u001b[0;34m,\u001b[0m \u001b[0mn_heart\u001b[0m\u001b[0;34m,\u001b[0m \u001b[0mf_heart\u001b[0m\u001b[0;34m,\u001b[0m \u001b[0mheart_base_qa\u001b[0m\u001b[0;34m,\u001b[0m \u001b[0mheart_base_qf\u001b[0m\u001b[0;34m)\u001b[0m\u001b[0;34m\u001b[0m\u001b[0;34m\u001b[0m\u001b[0m\n",
      "\u001b[0;31mNameError\u001b[0m: name 'n_iris' is not defined"
     ]
    }
   ],
   "source": [
    "iris_ds, iris_qas, iris_qfs = load_data('iris', feat_iris, n_iris, f_iris, iris_base_qa, iris_base_qf)\n",
    "cancer_ds, cancer_qas, cancer_qfs = load_data('cancer', feat_cancer, n_cancer, f_cancer, cancer_base_qa, cancer_base_qf)\n",
    "adult_ds, adult_qas, adult_qfs = load_data('adult', feat_adult, n_adult, f_adult, adult_base_qa, adult_base_qf)\n",
    "\n",
    "heart_ds, heart_qas, heart_qfs = load_data('heart', feat_heart, n_heart, f_heart, heart_base_qa, heart_base_qf)\n",
    "statlog_ds, statlog_qas, statlog_qfs = load_data('statlog', feat_statlog, n_statlog, f_statlog, statlog_base_qa, statlog_base_qf)\n",
    "abalone_ds, abalone_qas, abalone_qfs = load_data('abalone', feat_abalone, n_abalone, f_abalone, abalone_base_qa, abalone_base_qf)\n",
    "spambase_ds, spambase_qas, spambase_qfs = load_data('spambase', feat_spambase, n_spambase, f_spambase, spambase_base_qa, spambase_base_qf)\n",
    "bean_ds, bean_qas, bean_qfs = load_data('bean', feat_bean, n_bean, f_bean, bean_base_qa, bean_base_qf)\n"
   ]
  },
  {
   "cell_type": "code",
   "execution_count": null,
   "id": "64695f60",
   "metadata": {},
   "outputs": [],
   "source": [
    "iris_dqs = np.array([max(qa,qf) for qa,qf in zip(iris_qas, iris_qfs)])\n",
    "cancer_dqs = np.array([max(qa,qf) for qa,qf in zip(cancer_qas, cancer_qfs)])\n",
    "adult_dqs = np.array([max(qa,qf) for qa,qf in zip(adult_qas, adult_qfs)])\n",
    "\n",
    "heart_dqs = np.array([max(qa,qf) for qa,qf in zip(heart_qas, heart_qfs)])\n",
    "statlog_dqs = np.array([max(qa,qf) for qa,qf in zip(statlog_qas, statlog_qfs)])\n",
    "spambase_dqs = np.array([max(qa,qf) for qa,qf in zip(spambase_qas, spambase_qfs)])\n",
    "abalone_dqs = np.array([max(qa,qf) for qa,qf in zip(abalone_qas, abalone_qfs)])\n",
    "bean_dqs = np.array([max(qa,qf) for qa,qf in zip(bean_qas, bean_qfs)])"
   ]
  },
  {
   "cell_type": "code",
   "execution_count": null,
   "id": "6c0a5dba",
   "metadata": {},
   "outputs": [],
   "source": [
    "ys = [0, 0.3, 0.6]\n",
    "heights = [0.3, 0.3, 0.4]\n",
    "colors = cm.rainbow([0.5, 0.75, 1])\n",
    "zones = []\n",
    "\n",
    "for j in range(3):\n",
    "    zones.append(patches.Rectangle((0, ys[j]), 55, heights[j], color=colors[j], alpha=0.33))\n",
    "\n",
    "fig, ax = plt.subplots()\n",
    "\n",
    "line1a, = plt.plot(iris_ds, iris_dqs, color='C0', label='Iris')\n",
    "line2a, = plt.plot(cancer_ds, cancer_dqs, color='C1', label='Breast Cancer')\n",
    "line3a, = plt.plot(adult_ds, adult_dqs, color='C2', label='Adult')\n",
    "\n",
    "plt.ylim([0, 1])\n",
    "plt.xlim([0, 1])\n",
    "\n",
    "ymajor_ticks = np.arange(0, 11, 1)/10\n",
    "yminor_ticks = np.arange(0, 20, 1)/20\n",
    "ax.set_yticks(ymajor_ticks)\n",
    "ax.set_yticks(yminor_ticks, minor=True)\n",
    "ax.set_xticks(ymajor_ticks)\n",
    "ax.grid(which='minor', linestyle='--')\n",
    "\n",
    "plt.legend(loc='upper right')\n",
    "\n",
    "pc = PatchCollection(zones, match_original=True)\n",
    "ax.add_collection(pc)\n",
    "plt.grid(alpha=0.5)\n",
    "fig.tight_layout()\n",
    "plt.show()"
   ]
  },
  {
   "cell_type": "code",
   "execution_count": null,
   "id": "06e61c0b",
   "metadata": {
    "scrolled": false
   },
   "outputs": [],
   "source": [
    "ys = [0, 0.3, 0.6]\n",
    "heights = [0.3, 0.3, 0.4]\n",
    "colors = cm.rainbow([0.5, 0.75, 1])\n",
    "zones = []\n",
    "\n",
    "for j in range(3):\n",
    "    zones.append(patches.Rectangle((0, ys[j]), 55, heights[j], color=colors[j], alpha=0.33))\n",
    "\n",
    "fig, ax = plt.subplots()\n",
    "\n",
    "line1a, = plt.plot(heart_ds, heart_dqs, color='c', label='Heart Disease')\n",
    "line2a, = plt.plot(statlog_ds, statlog_dqs, color='m', label='Statlog')\n",
    "line3a, = plt.plot(abalone_ds, abalone_dqs, color='y', label='Abalone')\n",
    "line4a, = plt.plot(spambase_ds, spambase_dqs, color='k', label='Spambase')\n",
    "line5a, = plt.plot(bean_ds, bean_dqs, color='0.5', label='Dry Beans')\n",
    "\n",
    "\n",
    "plt.ylim([0, 1])\n",
    "plt.xlim([0, 1])\n",
    "\n",
    "ymajor_ticks = np.arange(0, 11, 1)/10\n",
    "yminor_ticks = np.arange(0, 20, 1)/20\n",
    "ax.set_yticks(ymajor_ticks)\n",
    "ax.set_xticks(ymajor_ticks)\n",
    "ax.set_yticks(yminor_ticks, minor=True)\n",
    "ax.grid(which='minor', linestyle='--')\n",
    "\n",
    "plt.legend(loc='lower right')\n",
    "\n",
    "pc = PatchCollection(zones, match_original=True)\n",
    "ax.add_collection(pc)\n",
    "plt.grid(alpha=0.5)\n",
    "fig.tight_layout()\n",
    "plt.show()"
   ]
  }
 ],
 "metadata": {
  "kernelspec": {
   "display_name": "Python 3",
   "language": "python",
   "name": "python3"
  },
  "language_info": {
   "codemirror_mode": {
    "name": "ipython",
    "version": 3
   },
   "file_extension": ".py",
   "mimetype": "text/x-python",
   "name": "python",
   "nbconvert_exporter": "python",
   "pygments_lexer": "ipython3",
   "version": "3.8.8"
  }
 },
 "nbformat": 4,
 "nbformat_minor": 5
}
